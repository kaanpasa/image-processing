{
 "cells": [
  {
   "cell_type": "code",
   "execution_count": 1,
   "id": "6cd33e2f",
   "metadata": {},
   "outputs": [
    {
     "name": "stdout",
     "output_type": "stream",
     "text": [
      "[[0. 0. 0.]\n",
      " [0. 0. 0.]]\n"
     ]
    }
   ],
   "source": [
    "import numpy as np\n",
    "array =np.zeros( (2,3) )\n",
    "print(array)"
   ]
  },
  {
   "cell_type": "code",
   "execution_count": 2,
   "id": "67ac5939",
   "metadata": {},
   "outputs": [
    {
     "name": "stdout",
     "output_type": "stream",
     "text": [
      "[[1. 1. 1. 1. 1.]]\n"
     ]
    }
   ],
   "source": [
    "import numpy as np\n",
    "array =np.ones( (1,5) )\n",
    "print(array)"
   ]
  },
  {
   "cell_type": "code",
   "execution_count": 4,
   "id": "7ea1e6d5",
   "metadata": {},
   "outputs": [
    {
     "name": "stdout",
     "output_type": "stream",
     "text": [
      "Number of the inputs: 4\n",
      "Enter the number: 110\n",
      "Enter the number: 4\n",
      "Enter the number: -20\n",
      "Enter the number: 50\n",
      "Average of the given numbers:  36.0\n"
     ]
    }
   ],
   "source": [
    "n=int(input(\"Number of the inputs: \"))\n",
    "arr=[]\n",
    "for i in range(0,n):\n",
    "    elem=int(input(\"Enter the number: \"))\n",
    "    arr.append(elem)\n",
    "avg=sum(arr)/n    \n",
    "print(\"Average of the given numbers: \", round(avg,2))"
   ]
  },
  {
   "cell_type": "code",
   "execution_count": null,
   "id": "1a65347c",
   "metadata": {},
   "outputs": [],
   "source": []
  }
 ],
 "metadata": {
  "kernelspec": {
   "display_name": "Python 3 (ipykernel)",
   "language": "python",
   "name": "python3"
  },
  "language_info": {
   "codemirror_mode": {
    "name": "ipython",
    "version": 3
   },
   "file_extension": ".py",
   "mimetype": "text/x-python",
   "name": "python",
   "nbconvert_exporter": "python",
   "pygments_lexer": "ipython3",
   "version": "3.9.13"
  }
 },
 "nbformat": 4,
 "nbformat_minor": 5
}
