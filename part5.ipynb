{
 "cells": [
  {
   "cell_type": "code",
   "execution_count": null,
   "id": "fdbcd396",
   "metadata": {},
   "outputs": [],
   "source": [
    "import cv2\n",
    "import numpy as np\n",
    "\n",
    "image = cv2.imread('image.png')\n",
    "\n",
    "kernel1 = np.ones ((5, 5), np.float32)/30\n",
    "\n",
    "img=cv2.filter2D(src=image, ddepth=-1, kernel=kernel1)\n",
    "\n",
    "cv2.imshow('Original', image)\n",
    "cv2.imshow('Kernel Blur', img)\n",
    "cv2.waitKey()\n",
    "cv2.destroyAllWindows()"
   ]
  },
  {
   "cell_type": "code",
   "execution_count": null,
   "id": "1a3c1492",
   "metadata": {},
   "outputs": [],
   "source": [
    "import cv2\n",
    "import numpy as np\n",
    "\n",
    "path=r'salad.jpg'\n",
    "\n",
    "img = cv2.imread(path)\n",
    "im1 = cv2.blur(img, (5,5))\n",
    "im2 = cv2.boxFilter(img, -1, (2, 2), normalize=True)\n",
    "cv2.imshow('image', np.hstack((im1, im2)))\n",
    "cv2.waitKey(0);\n",
    "cv2.destroyAllWindows();\n",
    "cv2.waitKey(1)"
   ]
  },
  {
   "cell_type": "code",
   "execution_count": null,
   "id": "53fde6d9",
   "metadata": {},
   "outputs": [],
   "source": [
    "import cv2\n",
    "import numpy as np\n",
    "img = cv2.imread('brain.jpg')\n",
    "median = cv2.medianBlur (img, 5)\n",
    "compare = np. concatenate((img, median), axis=1)\n",
    "cv2.imshow('img', compare)\n",
    "cv2.waitKey (0)\n",
    "cv2.destroyAllWindows"
   ]
  },
  {
   "cell_type": "code",
   "execution_count": null,
   "id": "5a037553",
   "metadata": {},
   "outputs": [],
   "source": [
    "import sys\n",
    "import cv2 as cv\n",
    "\n",
    "def main(argv):\n",
    "    ddepth = cv.CV_16S\n",
    "    kernel_size=3\n",
    "    window_name = \"Laplace Demo\"\n",
    "    \n",
    "    imageName = argv[0] if len(argv) > 0 else 'image.png'\n",
    "    \n",
    "    src = cv.imread(cv.samples.findFile(imageName), cv.IMREAD_COLOR)\n",
    "    \n",
    "    if src is None:\n",
    "        print('Error opening image')\n",
    "        print('Program Arguments:[image_name -- default image.png]')\n",
    "        return -1\n",
    "    src = cv.GaussianBlur(src,(3,3),0)\n",
    "    src_gray = cv.cvtColor(src, cv.COLOR_BGR2GRAY)\n",
    "    cv.namedWindow(window_name, cv.WINDOW_AUTOSIZE)\n",
    "    dst = cv.Laplacian(src_gray,ddepth, ksize=kernel_size)\n",
    "    abs_dst = cv.convertScaleAbs(dst)\n",
    "    cv.imshow(window_name,abs_dst)\n",
    "    cv.waitKey(0)\n",
    "    return 0\n",
    "if __name__ == \"__main__\":\n",
    "    main(sys.argv[1:1])"
   ]
  },
  {
   "cell_type": "code",
   "execution_count": null,
   "id": "22793482",
   "metadata": {},
   "outputs": [],
   "source": []
  }
 ],
 "metadata": {
  "kernelspec": {
   "display_name": "Python 3 (ipykernel)",
   "language": "python",
   "name": "python3"
  },
  "language_info": {
   "codemirror_mode": {
    "name": "ipython",
    "version": 3
   },
   "file_extension": ".py",
   "mimetype": "text/x-python",
   "name": "python",
   "nbconvert_exporter": "python",
   "pygments_lexer": "ipython3",
   "version": "3.9.13"
  }
 },
 "nbformat": 4,
 "nbformat_minor": 5
}
